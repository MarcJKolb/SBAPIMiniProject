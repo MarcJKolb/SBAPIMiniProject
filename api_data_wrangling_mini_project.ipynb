{
 "cells": [
  {
   "cell_type": "markdown",
   "metadata": {},
   "source": [
    "This exercise will require you to pull some data from https://data.nasdaq.com/ (formerly Quandl API)."
   ]
  },
  {
   "cell_type": "markdown",
   "metadata": {},
   "source": [
    "As a first step, you will need to register a free account on the https://data.nasdaq.com/ website."
   ]
  },
  {
   "cell_type": "markdown",
   "metadata": {},
   "source": [
    "After you register, you will be provided with a unique API key, that you should store:\n",
    "\n",
    "*Note*: Use a `.env` file and put your key in there and `python-dotenv` to access it in this notebook. \n",
    "\n",
    "The code below uses a key that was used when generating this project but has since been deleted. Never submit your keys to source control. There is a `.env-example` file in this repository to illusrtate what you need. Copy that to a file called `.env` and use your own api key in that `.env` file. Make sure you also have a `.gitignore` file with a line for `.env` added to it. \n",
    "\n",
    "The standard Python gitignore is [here](https://github.com/github/gitignore/blob/master/Python.gitignore) you can just copy that. "
   ]
  },
  {
   "cell_type": "code",
   "execution_count": 15,
   "metadata": {},
   "outputs": [
    {
     "name": "stdout",
     "output_type": "stream",
     "text": [
      "xsLYQU2qVkWrfyZyEE2A\n"
     ]
    }
   ],
   "source": [
    "# get api key from your .env file\n",
    "import os\n",
    "from dotenv import load_dotenv\n",
    "\n",
    "load_dotenv()\n",
    "API_KEY = os.getenv('NASDAQ_API_KEY')\n",
    "\n",
    "print(API_KEY)"
   ]
  },
  {
   "cell_type": "markdown",
   "metadata": {},
   "source": [
    "Nasdaq Data has a large number of data sources, but, unfortunately, most of them require a Premium subscription. Still, there are also a good number of free datasets."
   ]
  },
  {
   "cell_type": "markdown",
   "metadata": {},
   "source": [
    "For this mini project, we will focus on equities data from the Frankfurt Stock Exhange (FSE), which is available for free. We'll try and analyze the stock prices of a company called Carl Zeiss Meditec, which manufactures tools for eye examinations, as well as medical lasers for laser eye surgery: https://www.zeiss.com/meditec/int/home.html. The company is listed under the stock ticker AFX_X."
   ]
  },
  {
   "cell_type": "markdown",
   "metadata": {},
   "source": [
    "You can find the detailed Nasdaq Data API instructions here: https://docs.data.nasdaq.com/docs/in-depth-usage"
   ]
  },
  {
   "cell_type": "markdown",
   "metadata": {},
   "source": [
    "While there is a dedicated Python package for connecting to the Nasdaq API, we would prefer that you use the *requests* package, which can be easily downloaded using *pip* or *conda*. You can find the documentation for the package here: http://docs.python-requests.org/en/master/ "
   ]
  },
  {
   "cell_type": "markdown",
   "metadata": {},
   "source": [
    "Finally, apart from the *requests* package, you are encouraged to not use any third party Python packages, such as *pandas*, and instead focus on what's available in the Python Standard Library (the *collections* module might come in handy: https://pymotw.com/3/collections/).\n",
    "Also, since you won't have access to DataFrames, you are encouraged to us Python's native data structures - preferably dictionaries, though some questions can also be answered using lists.\n",
    "You can read more on these data structures here: https://docs.python.org/3/tutorial/datastructures.html"
   ]
  },
  {
   "cell_type": "markdown",
   "metadata": {},
   "source": [
    "Keep in mind that the JSON responses you will be getting from the API map almost one-to-one to Python's dictionaries. Unfortunately, they can be very nested, so make sure you read up on indexing dictionaries in the documentation provided above."
   ]
  },
  {
   "cell_type": "code",
   "execution_count": 30,
   "metadata": {},
   "outputs": [],
   "source": [
    "# First, import the relevant modules\n",
    "import requests\n",
    "import json"
   ]
  },
  {
   "cell_type": "markdown",
   "metadata": {},
   "source": [
    "Note: API's can change a bit with each version, for this exercise it is reccomended to use the nasdaq api at `https://data.nasdaq.com/api/v3/`. This is the same api as what used to be quandl so `https://www.quandl.com/api/v3/` should work too.\n",
    "\n",
    "Hint: We are looking for the `AFX_X` data on the `datasets/FSE/` dataset."
   ]
  },
  {
   "cell_type": "code",
   "execution_count": 39,
   "metadata": {},
   "outputs": [
    {
     "name": "stdout",
     "output_type": "stream",
     "text": [
      "{\n",
      "    \"dataset_data\": {\n",
      "        \"limit\": null,\n",
      "        \"transform\": null,\n",
      "        \"column_index\": null,\n",
      "        \"column_names\": [\n",
      "            \"Date\",\n",
      "            \"Open\",\n",
      "            \"High\",\n",
      "            \"Low\",\n",
      "            \"Close\",\n",
      "            \"Change\",\n",
      "            \"Traded Volume\",\n",
      "            \"Turnover\",\n",
      "            \"Last Price of the Day\",\n",
      "            \"Daily Traded Units\",\n",
      "            \"Daily Turnover\"\n",
      "        ],\n",
      "        \"start_date\": \"2019-09-11\",\n",
      "        \"end_date\": \"2019-09-12\",\n",
      "        \"frequency\": \"daily\",\n",
      "        \"data\": [\n",
      "            [\n",
      "                \"2019-09-12\",\n",
      "                101.9,\n",
      "                102.8,\n",
      "                100.6,\n",
      "                101.9,\n",
      "                null,\n",
      "                119437.0,\n",
      "                12145270.0,\n",
      "                null,\n",
      "                null,\n",
      "                null\n",
      "            ],\n",
      "            [\n",
      "                \"2019-09-11\",\n",
      "                100.7,\n",
      "                101.7,\n",
      "                99.0,\n",
      "                101.0,\n",
      "                null,\n",
      "                171872.0,\n",
      "                17257904.0,\n",
      "                null,\n",
      "                null,\n",
      "                null\n",
      "            ]\n",
      "        ],\n",
      "        \"collapse\": null,\n",
      "        \"order\": null\n",
      "    }\n",
      "}\n"
     ]
    }
   ],
   "source": [
    "# Now, call the Nasdaq API and pull out a small sample of the data (only one day) to get a glimpse\n",
    "# into the JSON structure that will be returned\n",
    "original_url = 'https://data.nasdaq.com/api/v3/datasets/FSE/AFX_X/data.json?start_date=2019-09-11&end_date=2019-09-12&api_key='\n",
    "new_url = original_url + API_KEY\n",
    "x = requests.get(new_url)\n",
    "x_parsed = json.loads(x.text)\n",
    "print(json.dumps(x_parsed, indent = 4))"
   ]
  },
  {
   "cell_type": "code",
   "execution_count": 4,
   "metadata": {},
   "outputs": [
    {
     "data": {
      "text/plain": [
       "{'dataset': {'id': 10095370,\n",
       "  'dataset_code': 'AFX_X',\n",
       "  'database_code': 'FSE',\n",
       "  'name': 'Carl Zeiss Meditec (AFX_X)',\n",
       "  'description': 'Stock Prices for Carl Zeiss Meditec (2020-11-02) from the Frankfurt Stock Exchange.<br><br>Trading System: Xetra<br><br>ISIN: DE0005313704',\n",
       "  'refreshed_at': '2020-12-01T14:48:09.907Z',\n",
       "  'newest_available_date': '2020-12-01',\n",
       "  'oldest_available_date': '2000-06-07',\n",
       "  'column_names': ['Date',\n",
       "   'Open',\n",
       "   'High',\n",
       "   'Low',\n",
       "   'Close',\n",
       "   'Change',\n",
       "   'Traded Volume',\n",
       "   'Turnover',\n",
       "   'Last Price of the Day',\n",
       "   'Daily Traded Units',\n",
       "   'Daily Turnover'],\n",
       "  'frequency': 'daily',\n",
       "  'type': 'Time Series',\n",
       "  'premium': False,\n",
       "  'limit': None,\n",
       "  'transform': None,\n",
       "  'column_index': None,\n",
       "  'start_date': '2021-01-03',\n",
       "  'end_date': '2020-12-01',\n",
       "  'data': [],\n",
       "  'collapse': None,\n",
       "  'order': None,\n",
       "  'database_id': 6129}}"
      ]
     },
     "execution_count": 4,
     "metadata": {},
     "output_type": "execute_result"
    }
   ],
   "source": [
    "# Inspect the JSON structure of the object you created, and take note of how nested it is,\n",
    "# as well as the overall structure"
   ]
  },
  {
   "cell_type": "markdown",
   "metadata": {},
   "source": [
    "These are your tasks for this mini project:\n",
    "\n",
    "1. Collect data from the Franfurt Stock Exchange, for the ticker AFX_X, for the whole year 2017 (keep in mind that the date format is YYYY-MM-DD).\n",
    "2. Convert the returned JSON object into a Python dictionary.\n",
    "3. Calculate what the highest and lowest opening prices were for the stock in this period.\n",
    "4. What was the largest change in any one day (based on High and Low price)?\n",
    "5. What was the largest change between any two days (based on Closing Price)?\n",
    "6. What was the average daily trading volume during this year?\n",
    "7. (Optional) What was the median trading volume during this year. (Note: you may need to implement your own function for calculating the median.)"
   ]
  },
  {
   "cell_type": "code",
   "execution_count": 50,
   "metadata": {},
   "outputs": [
    {
     "data": {
      "text/plain": [
       "dict"
      ]
     },
     "execution_count": 50,
     "metadata": {},
     "output_type": "execute_result"
    }
   ],
   "source": [
    "# Collect data from the Franfurt Stock Exchange, for the ticker AFX_X, for the whole year 2017 (keep in mind that the date format is YYYY-MM-DD).\n",
    "task_url = 'https://data.nasdaq.com/api/v3/datasets/FSE/AFX_X/data.json?start_date=2017-01-01&end_date=2017-12-31&collapse=daily&api_key='\n",
    "new_task_url = task_url + API_KEY\n",
    "task_json = requests.get(task_url)\n",
    "task_parsed = json.loads(task_json.text)\n",
    "task_str = json.dumps(task_parsed, indent = 4)\n",
    "# Convert the returned JSON object into a Python dictionary.\n",
    "task_dict= json.loads(task_str)\n",
    "type(task_dict)"
   ]
  },
  {
   "cell_type": "code",
   "execution_count": 96,
   "metadata": {},
   "outputs": [
    {
     "data": {
      "text/plain": [
       "['Date',\n",
       " 'Open',\n",
       " 'High',\n",
       " 'Low',\n",
       " 'Close',\n",
       " 'Change',\n",
       " 'Traded Volume',\n",
       " 'Turnover',\n",
       " 'Last Price of the Day',\n",
       " 'Daily Traded Units',\n",
       " 'Daily Turnover']"
      ]
     },
     "execution_count": 96,
     "metadata": {},
     "output_type": "execute_result"
    }
   ],
   "source": [
    "# Column Name Reference\n",
    "task_dict['dataset_data']['column_names']"
   ]
  },
  {
   "cell_type": "code",
   "execution_count": 97,
   "metadata": {},
   "outputs": [
    {
     "data": {
      "text/plain": [
       "['2017-12-29',\n",
       " 51.76,\n",
       " 51.94,\n",
       " 51.45,\n",
       " 51.76,\n",
       " None,\n",
       " 34640.0,\n",
       " 1792304.0,\n",
       " None,\n",
       " None,\n",
       " None]"
      ]
     },
     "execution_count": 97,
     "metadata": {},
     "output_type": "execute_result"
    }
   ],
   "source": [
    "# Data Structure Reference\n",
    "task_dict['dataset_data']['data'][0]"
   ]
  },
  {
   "cell_type": "code",
   "execution_count": 115,
   "metadata": {},
   "outputs": [
    {
     "name": "stdout",
     "output_type": "stream",
     "text": [
      "The maximum opening value was 53.11 on 2017-12-14.\n",
      "The minimum opening value was 34.0 on 2017-01-27.\n"
     ]
    }
   ],
   "source": [
    "# Calculate what the highest and lowest opening prices were for the stock in this period.\n",
    "high_score = []\n",
    "for item in task_dict['dataset_data']['data']:\n",
    "    if type(item[1]) == float:\n",
    "        high_score.append(item[1])\n",
    "max_val = max(high_score)\n",
    "max_index = high_score.index(max_val)\n",
    "max_date = task_dict['dataset_data']['data'][max_index][0]\n",
    "print(f\"The maximum opening value was {max_val} on {max_date}.\")\n",
    "min_val = min(high_score)\n",
    "min_index = high_score.index(min_val)\n",
    "min_date = task_dict['dataset_data']['data'][min_index][0]\n",
    "print(f\"The minimum opening value was {min_val} on {min_date}.\")"
   ]
  },
  {
   "cell_type": "code",
   "execution_count": 118,
   "metadata": {},
   "outputs": [
    {
     "name": "stdout",
     "output_type": "stream",
     "text": [
      "The maximum change of value was 2.8100000000000023 on 2017-05-11.\n"
     ]
    }
   ],
   "source": [
    "# What was the largest change in any one day (based on High and Low price)?\n",
    "delta_price = []\n",
    "for item in task_dict['dataset_data']['data']:\n",
    "    if type(item[2]) == float and type(item[3]) == float:\n",
    "        delta = item[2] - item[3]\n",
    "        delta_price.append(delta)\n",
    "max_del = max(delta_price)\n",
    "max_del_index = delta_price.index(max_del)\n",
    "max_del_date = task_dict['dataset_data']['data'][max_del_index][0]\n",
    "print(f\"The maximum change of value was {max_del} on {max_del_date}.\")"
   ]
  },
  {
   "cell_type": "code",
   "execution_count": 124,
   "metadata": {},
   "outputs": [
    {
     "name": "stdout",
     "output_type": "stream",
     "text": [
      "The maximum absolute change in value between closing was 2.559999999999995 on 2017-08-09.\n",
      "The maximum rise in value between closing was 2.559999999999995 on 2017-08-09.\n",
      "The maximum decline in value between closing was -1.7199999999999989 on 2017-05-11.\n"
     ]
    }
   ],
   "source": [
    "# What was the largest change between any two days (based on Closing Price)?\n",
    "delt_day = []\n",
    "abs_delt_day = []\n",
    "prev_day = 0\n",
    "for item in task_dict['dataset_data']['data']:\n",
    "    if prev_day != 0:\n",
    "        change = item[4] - prev_day\n",
    "        delt_day.append(change)\n",
    "        abs_delt_day.append(abs(change))\n",
    "    if type(item[4]) == float:\n",
    "        prev_day = item[4]\n",
    "    else: prev_day = 0\n",
    "delt_day_max = max(delt_day)\n",
    "max_del_day = delt_day.index(delt_day_max)\n",
    "max_del_day_date = task_dict['dataset_data']['data'][max_del_day][0]\n",
    "abs_delt_day_max = max(abs_delt_day)\n",
    "abs_max_del_day = abs_delt_day.index(abs_delt_day_max)\n",
    "abs_max_del_day_date = task_dict['dataset_data']['data'][abs_max_del_day][0]\n",
    "delt_day_min = min(delt_day)\n",
    "min_del_day = delt_day.index(delt_day_min)\n",
    "min_del_day_date = task_dict['dataset_data']['data'][min_del_day][0]\n",
    "print(f\"The maximum absolute change in value between closing was {abs_delt_day_max} on {abs_max_del_day_date}.\")\n",
    "print(f\"The maximum rise in value between closing was {delt_day_max} on {max_del_day_date}.\")\n",
    "print(f\"The maximum decline in value between closing was {delt_day_min} on {min_del_day_date}.\")"
   ]
  },
  {
   "cell_type": "code",
   "execution_count": 127,
   "metadata": {},
   "outputs": [
    {
     "name": "stdout",
     "output_type": "stream",
     "text": [
      "The average daily trading volume during this year is 89140.97619047618.\n"
     ]
    }
   ],
   "source": [
    "# What was the average daily trading volume during this year?\n",
    "trade = []\n",
    "for item in task_dict['dataset_data']['data']:\n",
    "    if type(item[1]) == float:\n",
    "        trade.append(item[6])\n",
    "mean_val = sum(trade) / len(trade)\n",
    "print(f\"The average daily trading volume during this year is {mean_val}.\")"
   ]
  },
  {
   "cell_type": "code",
   "execution_count": 130,
   "metadata": {},
   "outputs": [
    {
     "name": "stdout",
     "output_type": "stream",
     "text": [
      "The median daily trading volume during this year is 103746.5.\n"
     ]
    }
   ],
   "source": [
    "# (Optional) What was the median trading volume during this year. (Note: you may need to implement your own function for calculating the median.)\n",
    "if len(trade) % 2 == 0:\n",
    "    first_index = (len(trade) / 2) - 0.5\n",
    "    second_index = (len(trade) / 2) + 0.5\n",
    "    median = (trade[int(first_index)] + trade[int(second_index)]) / 2\n",
    "else:\n",
    "    median_index = len(trade) / 2\n",
    "    median = trade[median_index]\n",
    "print(f\"The median daily trading volume during this year is {median}.\")"
   ]
  }
 ],
 "metadata": {
  "kernelspec": {
   "display_name": "Python 3.9.12 ('base')",
   "language": "python",
   "name": "python3"
  },
  "language_info": {
   "codemirror_mode": {
    "name": "ipython",
    "version": 3
   },
   "file_extension": ".py",
   "mimetype": "text/x-python",
   "name": "python",
   "nbconvert_exporter": "python",
   "pygments_lexer": "ipython3",
   "version": "3.9.12"
  },
  "vscode": {
   "interpreter": {
    "hash": "52905d967f39656c7299d11033468600bf709a64d51740f5ce4cbb6611f102ea"
   }
  }
 },
 "nbformat": 4,
 "nbformat_minor": 4
}
